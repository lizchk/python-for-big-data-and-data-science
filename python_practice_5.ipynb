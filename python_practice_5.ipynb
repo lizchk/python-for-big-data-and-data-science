{
  "nbformat": 4,
  "nbformat_minor": 0,
  "metadata": {
    "colab": {
      "provenance": [],
      "include_colab_link": true
    },
    "kernelspec": {
      "name": "python3",
      "display_name": "Python 3"
    },
    "language_info": {
      "name": "python"
    }
  },
  "cells": [
    {
      "cell_type": "markdown",
      "metadata": {
        "id": "view-in-github",
        "colab_type": "text"
      },
      "source": [
        "<a href=\"https://colab.research.google.com/github/lizchk/python-for-big-data-and-data-science/blob/main/python_practice_5.ipynb\" target=\"_parent\"><img src=\"https://colab.research.google.com/assets/colab-badge.svg\" alt=\"Open In Colab\"/></a>"
      ]
    },
    {
      "cell_type": "markdown",
      "source": [
        "# I. OOP"
      ],
      "metadata": {
        "id": "5qV_sehzFCTp"
      }
    },
    {
      "cell_type": "markdown",
      "source": [
        "1. (6б). Створіть клас Animal, додайте три атрибути, один з яких має значення за замовчуванням та два методи на свій розсуд."
      ],
      "metadata": {
        "id": "tx_U_hOALyfg"
      }
    },
    {
      "cell_type": "code",
      "source": [
        "class Animal:\n",
        "  def __init__(self, name, sound, age=1):\n",
        "    self.name = name\n",
        "    self.sound = sound\n",
        "    self.age = age\n",
        "\n",
        "  def make_sound(self):\n",
        "    print(self.name + ' is saying ' + self.sound)\n",
        "\n",
        "  def introduce(self):\n",
        "    print(f\"I am {self.name} and I am {self.age} years old.\")"
      ],
      "metadata": {
        "id": "-Vf895KaL88N"
      },
      "execution_count": null,
      "outputs": []
    },
    {
      "cell_type": "markdown",
      "source": [
        "2. (2б). Створіть два обʼєкти цього класу, де один з обʼєктів створюється із дефолтним значенням атрибуту. На одному обʼєкті отримайте значення його атрибуту, а на іншому викличте один з його методів."
      ],
      "metadata": {
        "id": "X_UlOMB0L93w"
      }
    },
    {
      "cell_type": "code",
      "source": [
        "cat = Animal(\"Cat Tom\", \"meow-meow\", 2)\n",
        "dog = Animal(\"Dog Bob\", \"woof-woof\")\n",
        "\n",
        "print(\"My age is\", dog.age, \"year(s) old.\")\n",
        "cat.introduce()"
      ],
      "metadata": {
        "id": "7gBu0ESOMCpG",
        "colab": {
          "base_uri": "https://localhost:8080/"
        },
        "outputId": "aae85e84-3a27-4b29-fa36-6b40dce5fe79"
      },
      "execution_count": null,
      "outputs": [
        {
          "output_type": "stream",
          "name": "stdout",
          "text": [
            "My age is 1 year(s) old.\n",
            "I am Cat Tom and I am 2 years old.\n"
          ]
        }
      ]
    },
    {
      "cell_type": "markdown",
      "source": [
        "3. (5б). Створіть клас, де атрибути мають різні рівні доступу. Спробуйте отримати їхні значення та опишіть результати."
      ],
      "metadata": {
        "id": "HoqSCZt1MHn5"
      }
    },
    {
      "cell_type": "code",
      "source": [
        "class AttrClass:\n",
        "  def __init__(self):\n",
        "    self.public_attr = \"Public\"\n",
        "    self._protected_attr = \"Protected\"\n",
        "    self.__private_attr = \"Private\"\n",
        "\n",
        "obj = AttrClass()\n",
        "print(obj.public_attr)\n",
        "print(obj._protected_attr)\n",
        "print(obj.__private_attr)"
      ],
      "metadata": {
        "id": "r9b3vJxBMSPV",
        "colab": {
          "base_uri": "https://localhost:8080/",
          "height": 211
        },
        "outputId": "ab880801-6f63-46a6-930b-93248ea67c03"
      },
      "execution_count": null,
      "outputs": [
        {
          "output_type": "stream",
          "name": "stdout",
          "text": [
            "Public\n",
            "Protected\n"
          ]
        },
        {
          "output_type": "error",
          "ename": "AttributeError",
          "evalue": "'AttrClass' object has no attribute '__private_attr'",
          "traceback": [
            "\u001b[0;31m---------------------------------------------------------------------------\u001b[0m",
            "\u001b[0;31mAttributeError\u001b[0m                            Traceback (most recent call last)",
            "\u001b[0;32m<ipython-input-11-6d0890d26dc1>\u001b[0m in \u001b[0;36m<cell line: 10>\u001b[0;34m()\u001b[0m\n\u001b[1;32m      8\u001b[0m \u001b[0mprint\u001b[0m\u001b[0;34m(\u001b[0m\u001b[0mobj\u001b[0m\u001b[0;34m.\u001b[0m\u001b[0mpublic_attr\u001b[0m\u001b[0;34m)\u001b[0m\u001b[0;34m\u001b[0m\u001b[0;34m\u001b[0m\u001b[0m\n\u001b[1;32m      9\u001b[0m \u001b[0mprint\u001b[0m\u001b[0;34m(\u001b[0m\u001b[0mobj\u001b[0m\u001b[0;34m.\u001b[0m\u001b[0m_protected_attr\u001b[0m\u001b[0;34m)\u001b[0m\u001b[0;34m\u001b[0m\u001b[0;34m\u001b[0m\u001b[0m\n\u001b[0;32m---> 10\u001b[0;31m \u001b[0mprint\u001b[0m\u001b[0;34m(\u001b[0m\u001b[0mobj\u001b[0m\u001b[0;34m.\u001b[0m\u001b[0m__private_attr\u001b[0m\u001b[0;34m)\u001b[0m\u001b[0;34m\u001b[0m\u001b[0;34m\u001b[0m\u001b[0m\n\u001b[0m",
            "\u001b[0;31mAttributeError\u001b[0m: 'AttrClass' object has no attribute '__private_attr'"
          ]
        }
      ]
    },
    {
      "cell_type": "markdown",
      "source": [
        "public_attr - це публічний атрибут, до якого можна отримати доступ без обмежень. _protected_attr - захищений атрибут, який, хоча й не є справжньо приватним, проте слід уникати прямого доступу до нього ззовні класу. __private_attr - приватний атрибут, до якого можна отримати доступ лише в межах самого класу або через публічні методи, тому ми й отримали помилку."
      ],
      "metadata": {
        "id": "Rzdydz8DZiD4"
      }
    },
    {
      "cell_type": "markdown",
      "source": [
        "4. (7б). Як ви розумієте термін self? Для чого використовується метод __init __?"
      ],
      "metadata": {
        "id": "5op2m2vgMSkZ"
      }
    },
    {
      "cell_type": "markdown",
      "source": [
        "Термін self використовується для посилання на поточний об'єкт класу всередині методів класу. При виклику методів об'єкту, Python автоматично передає посилання на сам об'єкт у вигляді аргументу self, щоб метод міг звертатися до атрибутів та інших методів цього об'єкту.\n",
        "\n",
        "Метод __init__ використовується для ініціалізації об'єкту класу. Це так званий конструктор класу. При створенні нового об'єкту цей метод викликається автоматично. Його основна функція це встановити початкові значення атрибутів об'єкту, які можуть бути передані при створенні об'єкту або задані за замовчуванням. Метод __init__ може бути використаний для виконання будь-яких ініціалізаційних дій, необхідних для правильного функціонування об'єкту."
      ],
      "metadata": {
        "id": "DyiPqNRvMasx"
      }
    },
    {
      "cell_type": "markdown",
      "source": [
        "5. (9б). Створіть клас Фігура без атрибутів, з методом get_area для отримання площі фігури, що повертає 0 та __add __, який приймає self та other в якості аргументів, а повертає суму площин фігур self та other."
      ],
      "metadata": {
        "id": "-6X8EGfjMd2y"
      }
    },
    {
      "cell_type": "code",
      "source": [
        "class Figure:\n",
        "  def get_area(self):\n",
        "    return 0\n",
        "\n",
        "  def __add__(self, other):\n",
        "    return  self.get_area() + other.get_area()"
      ],
      "metadata": {
        "id": "4rvO_wYUMaEr"
      },
      "execution_count": null,
      "outputs": []
    },
    {
      "cell_type": "markdown",
      "source": [
        "6. (11б). Створіть 2 дочірніх класи від Фігури: Трикутник та Коло, які мають атрибути, необхідні для розрахунку площин. Визначте метод get_area в кожному з них так, щоби вони розраховували площу в залежності від формули для кожного типу фігури. Створіть обʼєкт класу Трикутник та обʼєкт класу Коло. Виконайте операцію суми за допомогою оператора + між ними."
      ],
      "metadata": {
        "id": "SFcKnnv5Mo_z"
      }
    },
    {
      "cell_type": "code",
      "source": [
        "import math\n",
        "\n",
        "class Triangle(Figure):\n",
        "  def __init__(self, a, b, c):\n",
        "    self.a = a\n",
        "    self.b = b\n",
        "    self.c = c\n",
        "\n",
        "  def get_area(self):\n",
        "    p = (self.a + self.b + self.c) / 2\n",
        "    return math.sqrt(p * (p - self.a) * (p - self.b) * (p - self.c))\n",
        "\n",
        "class Circle(Figure):\n",
        "  def __init__(self, r):\n",
        "    self.r = r\n",
        "\n",
        "  def get_area(self):\n",
        "    return math.pi * self.r ** 2\n",
        "\n",
        "triangle = Triangle(1, 2, 3)\n",
        "circle = Circle(4)\n",
        "\n",
        "total = triangle + circle\n",
        "\n",
        "print(total)\n"
      ],
      "metadata": {
        "id": "H3GVNr69Muf3",
        "colab": {
          "base_uri": "https://localhost:8080/"
        },
        "outputId": "bfeb61e1-f35a-454b-cf50-bcb051aa4088"
      },
      "execution_count": null,
      "outputs": [
        {
          "output_type": "stream",
          "name": "stdout",
          "text": [
            "50.26548245743669\n"
          ]
        }
      ]
    },
    {
      "cell_type": "markdown",
      "source": [
        "7. (3б). Продемонструйте різницю між isinstance та issubclass."
      ],
      "metadata": {
        "id": "HCvR206YMvLK"
      }
    },
    {
      "cell_type": "code",
      "source": [
        "print(isinstance(triangle, Triangle))\n",
        "print(isinstance(triangle, Figure))\n",
        "print(isinstance(circle, Triangle))\n",
        "\n",
        "print(issubclass(Triangle, Figure))\n",
        "print(issubclass(Circle, Triangle))\n"
      ],
      "metadata": {
        "id": "L_V1bBvDM0GN",
        "colab": {
          "base_uri": "https://localhost:8080/"
        },
        "outputId": "8a37aa87-07c7-4855-95bf-ded48c0d417d"
      },
      "execution_count": null,
      "outputs": [
        {
          "output_type": "stream",
          "name": "stdout",
          "text": [
            "True\n",
            "True\n",
            "False\n",
            "True\n",
            "False\n"
          ]
        }
      ]
    },
    {
      "cell_type": "markdown",
      "source": [
        "8. (13б). Створіть клас BankAccount з приватними атрибутами balance та account_number. Реалізуйте методи поповнення та зняття коштів, забезпечивши належну інкапсуляцію. Підказка: використовуйте декоратори property та setter."
      ],
      "metadata": {
        "id": "jjsaBZ-iM0Qq"
      }
    },
    {
      "cell_type": "code",
      "source": [
        "class BankAccount:\n",
        "    def __init__(self, account_number, initial_balance=0):\n",
        "        self.__balance = initial_balance\n",
        "        self.__account_number = account_number\n",
        "    @property\n",
        "    def balance(self):\n",
        "        return self.__balance\n",
        "\n",
        "    @property\n",
        "    def account_number(self):\n",
        "        return self.__account_number\n",
        "\n",
        "    @account_number.setter\n",
        "    def change_account_number(self, account):\n",
        "        self.__account_number = account\n",
        "\n",
        "    @balance.setter\n",
        "    def change_account_balance(self, balance):\n",
        "        self.__account_balance = balance\n",
        "\n",
        "    def deposit(self, amount):\n",
        "        if amount > 0:\n",
        "            print(f\"Balance: {self.__balance}\")\n",
        "            self.__balance += amount\n",
        "            print(f\"Deposited {amount}. New balance: {self.__balance}\")\n",
        "        else:\n",
        "            print(\"Deposit amount must be positive\")\n",
        "\n",
        "    def withdraw(self, amount):\n",
        "        if amount > 0 and amount <= self.__balance:\n",
        "            print(f\"Balance: {self.__balance}\")\n",
        "            self.__balance -= amount\n",
        "            print(f\"Withdrew {amount}. New balance: {self.__balance}\")\n",
        "        elif amount > self.__balance:\n",
        "            print(f\"Balance: {self.__balance}\")\n",
        "            print(f\"You want to withdraw {amount}, but there're insufficient funds.\")\n",
        "        else:\n",
        "            print(\"Withdrawal amount must be positive\")\n",
        "\n",
        "\n",
        "account = BankAccount(\"12345678\", 1000)\n",
        "account.deposit(500)\n",
        "account.withdraw(200)\n",
        "account.withdraw(1500)\n",
        "\n",
        "print(\"Account number:\", account.account_number)\n",
        "print(\"Current balance:\", account.balance)"
      ],
      "metadata": {
        "id": "xCvZ7lh8M7YA",
        "colab": {
          "base_uri": "https://localhost:8080/"
        },
        "outputId": "89c069d2-0ec9-43f2-cae1-5924b9c69ad7"
      },
      "execution_count": 17,
      "outputs": [
        {
          "output_type": "stream",
          "name": "stdout",
          "text": [
            "Balance: 1000\n",
            "Deposited 500. New balance: 1500\n",
            "Balance: 1500\n",
            "Withdrew 200. New balance: 1300\n",
            "Balance: 1300\n",
            "You want to withdraw 1500, but there're insufficient funds.\n",
            "Account number: 12345678\n",
            "Current balance: 1300\n"
          ]
        }
      ]
    },
    {
      "cell_type": "markdown",
      "source": [
        "9. (11б). Створіть клас Library, який містить список об'єктів типу Book. Реалізуйте методи для додавання книги, видалення книги та відображення списку книг."
      ],
      "metadata": {
        "id": "tIzL2SJTM8ft"
      }
    },
    {
      "cell_type": "code",
      "source": [
        "class Book:\n",
        "  def __init__(self, title, author):\n",
        "    self.title = title\n",
        "    self.author = author\n",
        "\n",
        "class Library:\n",
        "  def __init__(self):\n",
        "    self.books = []\n",
        "\n",
        "  def add_book(self, book):\n",
        "    self.books.append(book)\n",
        "    print(f\"Book '{book.title}' by {book.author} added to the library.\")\n",
        "\n",
        "  def delete_book(self, title):\n",
        "    for book in self.books:\n",
        "      if book.title == title:\n",
        "        self.books.remove(book)\n",
        "        print(f\"Book '{book.title}' by {book.author} removed from the library.\")\n",
        "        return\n",
        "    print(f\"Book with title '{title}' not found in the library.\")\n",
        "\n",
        "  def list_display(self):\n",
        "    if not self.books:\n",
        "       print(\"The library is empty.\")\n",
        "    else:\n",
        "      print(\"Books available in the library:\")\n",
        "      for book in self.books:\n",
        "          print(f\"Title: {book.title}, Author: {book.author}\")\n",
        "\n",
        "library = Library()\n",
        "book1 = Book(\"The Great Gatsby\", \"F. Scott Fitzgerald\")\n",
        "book2 = Book(\"To Kill a Mockingbird\", \"Harper Lee\")\n",
        "book3 = Book(\"1984\", \"George Orwell\")\n",
        "book4 = Book(\"Harry Potter and Cursed Child\", \"J. K. Rowling\")\n",
        "\n",
        "library.add_book(book1)\n",
        "library.add_book(book2)\n",
        "library.add_book(book3)\n",
        "\n",
        "library.delete_book(\"To Kill a Mockingbird\")\n",
        "library.delete_book(\"Harry Potter and Cursed Child\")\n",
        "\n",
        "library.list_display()"
      ],
      "metadata": {
        "id": "HWxfJKLtNAUZ",
        "colab": {
          "base_uri": "https://localhost:8080/"
        },
        "outputId": "4a158a2e-6d10-4bf5-9c26-af6253414606"
      },
      "execution_count": 40,
      "outputs": [
        {
          "output_type": "stream",
          "name": "stdout",
          "text": [
            "Book 'The Great Gatsby' by F. Scott Fitzgerald added to the library.\n",
            "Book 'To Kill a Mockingbird' by Harper Lee added to the library.\n",
            "Book '1984' by George Orwell added to the library.\n",
            "Book 'To Kill a Mockingbird' by Harper Lee removed from the library.\n",
            "Book with title 'Harry Potter and Cursed Child' not found in the library.\n",
            "Books available in the library:\n",
            "Title: The Great Gatsby, Author: F. Scott Fitzgerald\n",
            "Title: 1984, Author: George Orwell\n"
          ]
        }
      ]
    },
    {
      "cell_type": "markdown",
      "source": [
        "10. (13б). Створіть клас Person з атрибутами name та age. Створіть ще один клас Employee з такими атрибутами, як department та salary. Створіть клас Manager, який успадковує обидва класи Person та Employee. Продемонструйте використання множинної спадковості, створивши обʼєкт класу Manager та отримавши mro для цього класу."
      ],
      "metadata": {
        "id": "lmV8pAwwNIqu"
      }
    },
    {
      "cell_type": "code",
      "source": [
        "class Person:\n",
        "  def __init__(self, name, age):\n",
        "    self.name = name\n",
        "    self.age = age\n",
        "\n",
        "class Employee:\n",
        "  def __init__(self, department, salary):\n",
        "    self.department = department\n",
        "    self.salary = salary\n",
        "\n",
        "class Manager(Person, Employee):\n",
        "  def __init__(self, name, age, department, salary):\n",
        "        Person.__init__(self, name, age)\n",
        "        Employee.__init__(self, department, salary)\n",
        "\n",
        "mngr = Manager(\"Yelyzaveta Yakovenko\", 19, \"sales\", 25000)\n",
        "\n",
        "print(f\"Name: {mngr.name}, Age: {mngr.age}, Department: {mngr.department}, Salary: {mngr.salary}\")\n",
        "print(\"MRO for manager:\", Manager.__mro__)"
      ],
      "metadata": {
        "id": "R49grKlWNPeN",
        "colab": {
          "base_uri": "https://localhost:8080/"
        },
        "outputId": "bb0dec3d-78e6-4f4f-9687-16f80e991e0f"
      },
      "execution_count": 47,
      "outputs": [
        {
          "output_type": "stream",
          "name": "stdout",
          "text": [
            "Name: Yelyzaveta Yakovenko, Age: 19, Department: sales, Salary: 25000\n",
            "MRO for manager: (<class '__main__.Manager'>, <class '__main__.Person'>, <class '__main__.Employee'>, <class 'object'>)\n"
          ]
        }
      ]
    },
    {
      "cell_type": "markdown",
      "source": [
        "# II. Iterator"
      ],
      "metadata": {
        "id": "dIJyUiNBFG8G"
      }
    },
    {
      "cell_type": "markdown",
      "source": [
        "11. (4б). Визначте рядок(str) з 4ма різними за значенням символами. Створіть ітератор на основі цього рядка. Викличте 5 разів функцію next на ітераторі, 4ри перших з них огорніть у ф-цію print()."
      ],
      "metadata": {
        "id": "13vsm0NyKIzL"
      }
    },
    {
      "cell_type": "code",
      "source": [
        "my_string = \"abcd\"\n",
        "my_iterator = iter(my_string)\n",
        "\n",
        "for _ in range(5):\n",
        "  try:\n",
        "    next_value = next(my_iterator)\n",
        "    if _ < 4:\n",
        "      print(next_value)\n",
        "  except StopIteration:\n",
        "        print(\"No more elements.\")\n",
        "        break"
      ],
      "metadata": {
        "id": "81ntabAkKuz-",
        "colab": {
          "base_uri": "https://localhost:8080/"
        },
        "outputId": "a86b3ebc-0f1f-4590-95ca-e4aa5cb8a1bf"
      },
      "execution_count": 45,
      "outputs": [
        {
          "output_type": "stream",
          "name": "stdout",
          "text": [
            "a\n",
            "b\n",
            "c\n",
            "d\n",
            "No more elements.\n"
          ]
        }
      ]
    },
    {
      "cell_type": "markdown",
      "source": [
        "А що якщо викликати цю ж функцію на рядку?"
      ],
      "metadata": {
        "id": "aekWHGXOLRsO"
      }
    },
    {
      "cell_type": "code",
      "source": [
        "print(next(my_string))"
      ],
      "metadata": {
        "id": "mxATGsErLV1i",
        "colab": {
          "base_uri": "https://localhost:8080/",
          "height": 141
        },
        "outputId": "95f884d3-edcd-4d7e-93d8-af1e5b76816d"
      },
      "execution_count": 46,
      "outputs": [
        {
          "output_type": "error",
          "ename": "TypeError",
          "evalue": "'str' object is not an iterator",
          "traceback": [
            "\u001b[0;31m---------------------------------------------------------------------------\u001b[0m",
            "\u001b[0;31mTypeError\u001b[0m                                 Traceback (most recent call last)",
            "\u001b[0;32m<ipython-input-46-ae3bf3712850>\u001b[0m in \u001b[0;36m<cell line: 1>\u001b[0;34m()\u001b[0m\n\u001b[0;32m----> 1\u001b[0;31m \u001b[0mprint\u001b[0m\u001b[0;34m(\u001b[0m\u001b[0mnext\u001b[0m\u001b[0;34m(\u001b[0m\u001b[0mmy_string\u001b[0m\u001b[0;34m)\u001b[0m\u001b[0;34m)\u001b[0m\u001b[0;34m\u001b[0m\u001b[0;34m\u001b[0m\u001b[0m\n\u001b[0m",
            "\u001b[0;31mTypeError\u001b[0m: 'str' object is not an iterator"
          ]
        }
      ]
    },
    {
      "cell_type": "markdown",
      "source": [
        " 12. (5б). Опишіть своїми словами в одному реченні, як ви розумієте різницю між ітерабельними обʼєктами та ітераторами (можна на прикладі)."
      ],
      "metadata": {
        "id": "XwtMEopwJ4pH"
      }
    },
    {
      "cell_type": "markdown",
      "source": [
        "Ітерабельні об'єкти - це об'єкти, які можна ітерувати або перебирати, такі як списки або рядки, в той час як ітератори - це об'єкти, які використовуються для послідовного отримання елементів з ітерабельного об'єкту, зберігаючи при цьому стан ітерації між викликами, наприклад, використання функції next() для доступу до наступного елемента у послідовності."
      ],
      "metadata": {
        "id": "-sHrODc3KFn8"
      }
    },
    {
      "cell_type": "markdown",
      "source": [
        "13. (11б). Створіть клас, що має визначений Iterator Protocol та при кожному виклику next повертає літери англійської абетки, поки вони не вичерпаються."
      ],
      "metadata": {
        "id": "E9qJWmNbK8Gl"
      }
    },
    {
      "cell_type": "code",
      "source": [
        "class AlphabetIterator:\n",
        "    def __init__(self):\n",
        "        self.letters = 'ABCDEFGHIJKLMNOPQRSTUVWXYZ'\n",
        "        self.index = 0\n",
        "\n",
        "    def __iter__(self):\n",
        "        return self\n",
        "\n",
        "    def __next__(self):\n",
        "        if self.index < len(self.letters):\n",
        "            letter = self.letters[self.index]\n",
        "            self.index += 1\n",
        "            return letter\n",
        "        else:\n",
        "            raise StopIteration\n",
        "\n",
        "\n",
        "alphabet_iterator = AlphabetIterator()\n",
        "\n",
        "for letter in alphabet_iterator:\n",
        "    print(letter)"
      ],
      "metadata": {
        "id": "cqx-g_RsLo6I",
        "colab": {
          "base_uri": "https://localhost:8080/"
        },
        "outputId": "a2bc17d5-664e-4693-b924-4848283134d1"
      },
      "execution_count": 50,
      "outputs": [
        {
          "output_type": "stream",
          "name": "stdout",
          "text": [
            "A\n",
            "B\n",
            "C\n",
            "D\n",
            "E\n",
            "F\n",
            "G\n",
            "H\n",
            "I\n",
            "J\n",
            "K\n",
            "L\n",
            "M\n",
            "N\n",
            "O\n",
            "P\n",
            "Q\n",
            "R\n",
            "S\n",
            "T\n",
            "U\n",
            "V\n",
            "W\n",
            "X\n",
            "Y\n",
            "Z\n"
          ]
        }
      ]
    },
    {
      "cell_type": "markdown",
      "source": [
        "# Вітаю! Ви велика(ий) молодець, що впоралась(вся). Похваліть себе та побалуйте чимось приємним. Я Вами пишаюся."
      ],
      "metadata": {
        "id": "Z3E3S_s1Fv7-"
      }
    }
  ]
}